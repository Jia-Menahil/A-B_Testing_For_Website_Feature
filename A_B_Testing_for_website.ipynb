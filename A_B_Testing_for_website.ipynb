{
  "nbformat": 4,
  "nbformat_minor": 0,
  "metadata": {
    "colab": {
      "provenance": []
    },
    "kernelspec": {
      "name": "python3",
      "display_name": "Python 3"
    },
    "language_info": {
      "name": "python"
    }
  },
  "cells": [
    {
      "cell_type": "markdown",
      "source": [
        "## Importing Libraries"
      ],
      "metadata": {
        "id": "cuS5r4gzBmjU"
      }
    },
    {
      "cell_type": "code",
      "execution_count": null,
      "metadata": {
        "id": "piEEJV-eTlXn"
      },
      "outputs": [],
      "source": [
        "import pandas as pd\n",
        "import numpy as np\n",
        "import matplotlib.pyplot as plt\n",
        "import seaborn as sns\n",
        "from scipy.stats import chi2_contingency, ttest_ind"
      ]
    },
    {
      "cell_type": "markdown",
      "source": [
        "## Understanding Data"
      ],
      "metadata": {
        "id": "sG200UwHBr5n"
      }
    },
    {
      "cell_type": "code",
      "source": [
        "data = pd.read_csv(\"ab_test_results_mock_data.csv\")\n",
        "data.head(5)"
      ],
      "metadata": {
        "colab": {
          "base_uri": "https://localhost:8080/",
          "height": 206
        },
        "id": "gVFWKmOaUaaD",
        "outputId": "9e474bce-7933-4eb7-d5a7-72a139583303"
      },
      "execution_count": null,
      "outputs": [
        {
          "output_type": "execute_result",
          "data": {
            "text/plain": [
              "        UserID    Group        Date  PageViews  Clicks  Converted\n",
              "0  UserA_10000  Control  2023-11-08          5       2          0\n",
              "1  UserA_10001  Control  2023-11-14          8       7          1\n",
              "2  UserA_10002  Control  2023-11-03          7       6          0\n",
              "3  UserA_10003  Control  2023-11-06          6       2          0\n",
              "4  UserA_10004  Control  2023-11-03          6       5          0"
            ],
            "text/html": [
              "\n",
              "  <div id=\"df-e11641a6-af06-4440-b6e6-3c2c503f8e8b\" class=\"colab-df-container\">\n",
              "    <div>\n",
              "<style scoped>\n",
              "    .dataframe tbody tr th:only-of-type {\n",
              "        vertical-align: middle;\n",
              "    }\n",
              "\n",
              "    .dataframe tbody tr th {\n",
              "        vertical-align: top;\n",
              "    }\n",
              "\n",
              "    .dataframe thead th {\n",
              "        text-align: right;\n",
              "    }\n",
              "</style>\n",
              "<table border=\"1\" class=\"dataframe\">\n",
              "  <thead>\n",
              "    <tr style=\"text-align: right;\">\n",
              "      <th></th>\n",
              "      <th>UserID</th>\n",
              "      <th>Group</th>\n",
              "      <th>Date</th>\n",
              "      <th>PageViews</th>\n",
              "      <th>Clicks</th>\n",
              "      <th>Converted</th>\n",
              "    </tr>\n",
              "  </thead>\n",
              "  <tbody>\n",
              "    <tr>\n",
              "      <th>0</th>\n",
              "      <td>UserA_10000</td>\n",
              "      <td>Control</td>\n",
              "      <td>2023-11-08</td>\n",
              "      <td>5</td>\n",
              "      <td>2</td>\n",
              "      <td>0</td>\n",
              "    </tr>\n",
              "    <tr>\n",
              "      <th>1</th>\n",
              "      <td>UserA_10001</td>\n",
              "      <td>Control</td>\n",
              "      <td>2023-11-14</td>\n",
              "      <td>8</td>\n",
              "      <td>7</td>\n",
              "      <td>1</td>\n",
              "    </tr>\n",
              "    <tr>\n",
              "      <th>2</th>\n",
              "      <td>UserA_10002</td>\n",
              "      <td>Control</td>\n",
              "      <td>2023-11-03</td>\n",
              "      <td>7</td>\n",
              "      <td>6</td>\n",
              "      <td>0</td>\n",
              "    </tr>\n",
              "    <tr>\n",
              "      <th>3</th>\n",
              "      <td>UserA_10003</td>\n",
              "      <td>Control</td>\n",
              "      <td>2023-11-06</td>\n",
              "      <td>6</td>\n",
              "      <td>2</td>\n",
              "      <td>0</td>\n",
              "    </tr>\n",
              "    <tr>\n",
              "      <th>4</th>\n",
              "      <td>UserA_10004</td>\n",
              "      <td>Control</td>\n",
              "      <td>2023-11-03</td>\n",
              "      <td>6</td>\n",
              "      <td>5</td>\n",
              "      <td>0</td>\n",
              "    </tr>\n",
              "  </tbody>\n",
              "</table>\n",
              "</div>\n",
              "    <div class=\"colab-df-buttons\">\n",
              "\n",
              "  <div class=\"colab-df-container\">\n",
              "    <button class=\"colab-df-convert\" onclick=\"convertToInteractive('df-e11641a6-af06-4440-b6e6-3c2c503f8e8b')\"\n",
              "            title=\"Convert this dataframe to an interactive table.\"\n",
              "            style=\"display:none;\">\n",
              "\n",
              "  <svg xmlns=\"http://www.w3.org/2000/svg\" height=\"24px\" viewBox=\"0 -960 960 960\">\n",
              "    <path d=\"M120-120v-720h720v720H120Zm60-500h600v-160H180v160Zm220 220h160v-160H400v160Zm0 220h160v-160H400v160ZM180-400h160v-160H180v160Zm440 0h160v-160H620v160ZM180-180h160v-160H180v160Zm440 0h160v-160H620v160Z\"/>\n",
              "  </svg>\n",
              "    </button>\n",
              "\n",
              "  <style>\n",
              "    .colab-df-container {\n",
              "      display:flex;\n",
              "      gap: 12px;\n",
              "    }\n",
              "\n",
              "    .colab-df-convert {\n",
              "      background-color: #E8F0FE;\n",
              "      border: none;\n",
              "      border-radius: 50%;\n",
              "      cursor: pointer;\n",
              "      display: none;\n",
              "      fill: #1967D2;\n",
              "      height: 32px;\n",
              "      padding: 0 0 0 0;\n",
              "      width: 32px;\n",
              "    }\n",
              "\n",
              "    .colab-df-convert:hover {\n",
              "      background-color: #E2EBFA;\n",
              "      box-shadow: 0px 1px 2px rgba(60, 64, 67, 0.3), 0px 1px 3px 1px rgba(60, 64, 67, 0.15);\n",
              "      fill: #174EA6;\n",
              "    }\n",
              "\n",
              "    .colab-df-buttons div {\n",
              "      margin-bottom: 4px;\n",
              "    }\n",
              "\n",
              "    [theme=dark] .colab-df-convert {\n",
              "      background-color: #3B4455;\n",
              "      fill: #D2E3FC;\n",
              "    }\n",
              "\n",
              "    [theme=dark] .colab-df-convert:hover {\n",
              "      background-color: #434B5C;\n",
              "      box-shadow: 0px 1px 3px 1px rgba(0, 0, 0, 0.15);\n",
              "      filter: drop-shadow(0px 1px 2px rgba(0, 0, 0, 0.3));\n",
              "      fill: #FFFFFF;\n",
              "    }\n",
              "  </style>\n",
              "\n",
              "    <script>\n",
              "      const buttonEl =\n",
              "        document.querySelector('#df-e11641a6-af06-4440-b6e6-3c2c503f8e8b button.colab-df-convert');\n",
              "      buttonEl.style.display =\n",
              "        google.colab.kernel.accessAllowed ? 'block' : 'none';\n",
              "\n",
              "      async function convertToInteractive(key) {\n",
              "        const element = document.querySelector('#df-e11641a6-af06-4440-b6e6-3c2c503f8e8b');\n",
              "        const dataTable =\n",
              "          await google.colab.kernel.invokeFunction('convertToInteractive',\n",
              "                                                    [key], {});\n",
              "        if (!dataTable) return;\n",
              "\n",
              "        const docLinkHtml = 'Like what you see? Visit the ' +\n",
              "          '<a target=\"_blank\" href=https://colab.research.google.com/notebooks/data_table.ipynb>data table notebook</a>'\n",
              "          + ' to learn more about interactive tables.';\n",
              "        element.innerHTML = '';\n",
              "        dataTable['output_type'] = 'display_data';\n",
              "        await google.colab.output.renderOutput(dataTable, element);\n",
              "        const docLink = document.createElement('div');\n",
              "        docLink.innerHTML = docLinkHtml;\n",
              "        element.appendChild(docLink);\n",
              "      }\n",
              "    </script>\n",
              "  </div>\n",
              "\n",
              "\n",
              "    <div id=\"df-15ba62bb-9317-4300-b60b-bfb102264f73\">\n",
              "      <button class=\"colab-df-quickchart\" onclick=\"quickchart('df-15ba62bb-9317-4300-b60b-bfb102264f73')\"\n",
              "                title=\"Suggest charts\"\n",
              "                style=\"display:none;\">\n",
              "\n",
              "<svg xmlns=\"http://www.w3.org/2000/svg\" height=\"24px\"viewBox=\"0 0 24 24\"\n",
              "     width=\"24px\">\n",
              "    <g>\n",
              "        <path d=\"M19 3H5c-1.1 0-2 .9-2 2v14c0 1.1.9 2 2 2h14c1.1 0 2-.9 2-2V5c0-1.1-.9-2-2-2zM9 17H7v-7h2v7zm4 0h-2V7h2v10zm4 0h-2v-4h2v4z\"/>\n",
              "    </g>\n",
              "</svg>\n",
              "      </button>\n",
              "\n",
              "<style>\n",
              "  .colab-df-quickchart {\n",
              "      --bg-color: #E8F0FE;\n",
              "      --fill-color: #1967D2;\n",
              "      --hover-bg-color: #E2EBFA;\n",
              "      --hover-fill-color: #174EA6;\n",
              "      --disabled-fill-color: #AAA;\n",
              "      --disabled-bg-color: #DDD;\n",
              "  }\n",
              "\n",
              "  [theme=dark] .colab-df-quickchart {\n",
              "      --bg-color: #3B4455;\n",
              "      --fill-color: #D2E3FC;\n",
              "      --hover-bg-color: #434B5C;\n",
              "      --hover-fill-color: #FFFFFF;\n",
              "      --disabled-bg-color: #3B4455;\n",
              "      --disabled-fill-color: #666;\n",
              "  }\n",
              "\n",
              "  .colab-df-quickchart {\n",
              "    background-color: var(--bg-color);\n",
              "    border: none;\n",
              "    border-radius: 50%;\n",
              "    cursor: pointer;\n",
              "    display: none;\n",
              "    fill: var(--fill-color);\n",
              "    height: 32px;\n",
              "    padding: 0;\n",
              "    width: 32px;\n",
              "  }\n",
              "\n",
              "  .colab-df-quickchart:hover {\n",
              "    background-color: var(--hover-bg-color);\n",
              "    box-shadow: 0 1px 2px rgba(60, 64, 67, 0.3), 0 1px 3px 1px rgba(60, 64, 67, 0.15);\n",
              "    fill: var(--button-hover-fill-color);\n",
              "  }\n",
              "\n",
              "  .colab-df-quickchart-complete:disabled,\n",
              "  .colab-df-quickchart-complete:disabled:hover {\n",
              "    background-color: var(--disabled-bg-color);\n",
              "    fill: var(--disabled-fill-color);\n",
              "    box-shadow: none;\n",
              "  }\n",
              "\n",
              "  .colab-df-spinner {\n",
              "    border: 2px solid var(--fill-color);\n",
              "    border-color: transparent;\n",
              "    border-bottom-color: var(--fill-color);\n",
              "    animation:\n",
              "      spin 1s steps(1) infinite;\n",
              "  }\n",
              "\n",
              "  @keyframes spin {\n",
              "    0% {\n",
              "      border-color: transparent;\n",
              "      border-bottom-color: var(--fill-color);\n",
              "      border-left-color: var(--fill-color);\n",
              "    }\n",
              "    20% {\n",
              "      border-color: transparent;\n",
              "      border-left-color: var(--fill-color);\n",
              "      border-top-color: var(--fill-color);\n",
              "    }\n",
              "    30% {\n",
              "      border-color: transparent;\n",
              "      border-left-color: var(--fill-color);\n",
              "      border-top-color: var(--fill-color);\n",
              "      border-right-color: var(--fill-color);\n",
              "    }\n",
              "    40% {\n",
              "      border-color: transparent;\n",
              "      border-right-color: var(--fill-color);\n",
              "      border-top-color: var(--fill-color);\n",
              "    }\n",
              "    60% {\n",
              "      border-color: transparent;\n",
              "      border-right-color: var(--fill-color);\n",
              "    }\n",
              "    80% {\n",
              "      border-color: transparent;\n",
              "      border-right-color: var(--fill-color);\n",
              "      border-bottom-color: var(--fill-color);\n",
              "    }\n",
              "    90% {\n",
              "      border-color: transparent;\n",
              "      border-bottom-color: var(--fill-color);\n",
              "    }\n",
              "  }\n",
              "</style>\n",
              "\n",
              "      <script>\n",
              "        async function quickchart(key) {\n",
              "          const quickchartButtonEl =\n",
              "            document.querySelector('#' + key + ' button');\n",
              "          quickchartButtonEl.disabled = true;  // To prevent multiple clicks.\n",
              "          quickchartButtonEl.classList.add('colab-df-spinner');\n",
              "          try {\n",
              "            const charts = await google.colab.kernel.invokeFunction(\n",
              "                'suggestCharts', [key], {});\n",
              "          } catch (error) {\n",
              "            console.error('Error during call to suggestCharts:', error);\n",
              "          }\n",
              "          quickchartButtonEl.classList.remove('colab-df-spinner');\n",
              "          quickchartButtonEl.classList.add('colab-df-quickchart-complete');\n",
              "        }\n",
              "        (() => {\n",
              "          let quickchartButtonEl =\n",
              "            document.querySelector('#df-15ba62bb-9317-4300-b60b-bfb102264f73 button');\n",
              "          quickchartButtonEl.style.display =\n",
              "            google.colab.kernel.accessAllowed ? 'block' : 'none';\n",
              "        })();\n",
              "      </script>\n",
              "    </div>\n",
              "\n",
              "    </div>\n",
              "  </div>\n"
            ],
            "application/vnd.google.colaboratory.intrinsic+json": {
              "type": "dataframe",
              "variable_name": "data",
              "summary": "{\n  \"name\": \"data\",\n  \"rows\": 10000,\n  \"fields\": [\n    {\n      \"column\": \"UserID\",\n      \"properties\": {\n        \"dtype\": \"string\",\n        \"num_unique_values\": 10000,\n        \"samples\": [\n          \"UserB_21252\",\n          \"UserA_14684\",\n          \"UserA_11731\"\n        ],\n        \"semantic_type\": \"\",\n        \"description\": \"\"\n      }\n    },\n    {\n      \"column\": \"Group\",\n      \"properties\": {\n        \"dtype\": \"category\",\n        \"num_unique_values\": 2,\n        \"samples\": [\n          \"Treatment\",\n          \"Control\"\n        ],\n        \"semantic_type\": \"\",\n        \"description\": \"\"\n      }\n    },\n    {\n      \"column\": \"Date\",\n      \"properties\": {\n        \"dtype\": \"object\",\n        \"num_unique_values\": 14,\n        \"samples\": [\n          \"2023-11-01\",\n          \"2023-11-09\"\n        ],\n        \"semantic_type\": \"\",\n        \"description\": \"\"\n      }\n    },\n    {\n      \"column\": \"PageViews\",\n      \"properties\": {\n        \"dtype\": \"number\",\n        \"std\": 4,\n        \"min\": 1,\n        \"max\": 20,\n        \"num_unique_values\": 20,\n        \"samples\": [\n          5,\n          2\n        ],\n        \"semantic_type\": \"\",\n        \"description\": \"\"\n      }\n    },\n    {\n      \"column\": \"Clicks\",\n      \"properties\": {\n        \"dtype\": \"number\",\n        \"std\": 4,\n        \"min\": 0,\n        \"max\": 16,\n        \"num_unique_values\": 17,\n        \"samples\": [\n          2,\n          7\n        ],\n        \"semantic_type\": \"\",\n        \"description\": \"\"\n      }\n    },\n    {\n      \"column\": \"Converted\",\n      \"properties\": {\n        \"dtype\": \"number\",\n        \"std\": 0,\n        \"min\": 0,\n        \"max\": 1,\n        \"num_unique_values\": 2,\n        \"samples\": [\n          1,\n          0\n        ],\n        \"semantic_type\": \"\",\n        \"description\": \"\"\n      }\n    }\n  ]\n}"
            }
          },
          "metadata": {},
          "execution_count": 34
        }
      ]
    },
    {
      "cell_type": "code",
      "source": [
        "print(data['Group'].unique())"
      ],
      "metadata": {
        "colab": {
          "base_uri": "https://localhost:8080/"
        },
        "id": "9qNq2rM4UhpI",
        "outputId": "f5bfaa17-afa0-4043-c09c-2afb56e3e3e9"
      },
      "execution_count": null,
      "outputs": [
        {
          "output_type": "stream",
          "name": "stdout",
          "text": [
            "['Control' 'Treatment']\n"
          ]
        }
      ]
    },
    {
      "cell_type": "code",
      "source": [
        "data.shape"
      ],
      "metadata": {
        "colab": {
          "base_uri": "https://localhost:8080/"
        },
        "id": "jGoEqSxnUiRp",
        "outputId": "c5f566a8-44dc-467e-dfff-bf6acc408dbb"
      },
      "execution_count": null,
      "outputs": [
        {
          "output_type": "execute_result",
          "data": {
            "text/plain": [
              "(10000, 6)"
            ]
          },
          "metadata": {},
          "execution_count": 36
        }
      ]
    },
    {
      "cell_type": "code",
      "source": [
        "data.info()"
      ],
      "metadata": {
        "colab": {
          "base_uri": "https://localhost:8080/"
        },
        "id": "yQF2xTZXUlLc",
        "outputId": "e317ef8c-777a-4487-d05b-c89570037143"
      },
      "execution_count": null,
      "outputs": [
        {
          "output_type": "stream",
          "name": "stdout",
          "text": [
            "<class 'pandas.core.frame.DataFrame'>\n",
            "RangeIndex: 10000 entries, 0 to 9999\n",
            "Data columns (total 6 columns):\n",
            " #   Column     Non-Null Count  Dtype \n",
            "---  ------     --------------  ----- \n",
            " 0   UserID     10000 non-null  object\n",
            " 1   Group      10000 non-null  object\n",
            " 2   Date       10000 non-null  object\n",
            " 3   PageViews  10000 non-null  int64 \n",
            " 4   Clicks     10000 non-null  int64 \n",
            " 5   Converted  10000 non-null  int64 \n",
            "dtypes: int64(3), object(3)\n",
            "memory usage: 468.9+ KB\n"
          ]
        }
      ]
    },
    {
      "cell_type": "code",
      "source": [
        "# Converting date column to date dataframe\n",
        "\n",
        "data[\"Date\"] = pd.to_datetime(data[\"Date\"])"
      ],
      "metadata": {
        "id": "xbU9p2WTUs2M"
      },
      "execution_count": null,
      "outputs": []
    },
    {
      "cell_type": "code",
      "source": [
        "data.isnull().sum()"
      ],
      "metadata": {
        "colab": {
          "base_uri": "https://localhost:8080/",
          "height": 272
        },
        "id": "DoFaGpEZVApw",
        "outputId": "c2a8c710-bbbf-48bd-f451-6b64f9ebf27f"
      },
      "execution_count": null,
      "outputs": [
        {
          "output_type": "execute_result",
          "data": {
            "text/plain": [
              "UserID       0\n",
              "Group        0\n",
              "Date         0\n",
              "PageViews    0\n",
              "Clicks       0\n",
              "Converted    0\n",
              "dtype: int64"
            ],
            "text/html": [
              "<div>\n",
              "<style scoped>\n",
              "    .dataframe tbody tr th:only-of-type {\n",
              "        vertical-align: middle;\n",
              "    }\n",
              "\n",
              "    .dataframe tbody tr th {\n",
              "        vertical-align: top;\n",
              "    }\n",
              "\n",
              "    .dataframe thead th {\n",
              "        text-align: right;\n",
              "    }\n",
              "</style>\n",
              "<table border=\"1\" class=\"dataframe\">\n",
              "  <thead>\n",
              "    <tr style=\"text-align: right;\">\n",
              "      <th></th>\n",
              "      <th>0</th>\n",
              "    </tr>\n",
              "  </thead>\n",
              "  <tbody>\n",
              "    <tr>\n",
              "      <th>UserID</th>\n",
              "      <td>0</td>\n",
              "    </tr>\n",
              "    <tr>\n",
              "      <th>Group</th>\n",
              "      <td>0</td>\n",
              "    </tr>\n",
              "    <tr>\n",
              "      <th>Date</th>\n",
              "      <td>0</td>\n",
              "    </tr>\n",
              "    <tr>\n",
              "      <th>PageViews</th>\n",
              "      <td>0</td>\n",
              "    </tr>\n",
              "    <tr>\n",
              "      <th>Clicks</th>\n",
              "      <td>0</td>\n",
              "    </tr>\n",
              "    <tr>\n",
              "      <th>Converted</th>\n",
              "      <td>0</td>\n",
              "    </tr>\n",
              "  </tbody>\n",
              "</table>\n",
              "</div><br><label><b>dtype:</b> int64</label>"
            ]
          },
          "metadata": {},
          "execution_count": 39
        }
      ]
    },
    {
      "cell_type": "code",
      "source": [
        "# Converting group into 2 distinct groups\n",
        "\n",
        "Control_group = data[data['Group'] == 'Control']\n",
        "Treatment_group = data[data['Group'] == 'Treatment']"
      ],
      "metadata": {
        "id": "RIqeBDYYVDfX"
      },
      "execution_count": null,
      "outputs": []
    },
    {
      "cell_type": "code",
      "source": [
        "print(f\"Control group: {len(Control_group)} users\")\n",
        "print(f\"Treatment group: {len(Treatment_group)} users\")"
      ],
      "metadata": {
        "colab": {
          "base_uri": "https://localhost:8080/"
        },
        "id": "pui8jL0HVJpD",
        "outputId": "e2f08afc-798b-4107-e8bf-b0929649f87e"
      },
      "execution_count": null,
      "outputs": [
        {
          "output_type": "stream",
          "name": "stdout",
          "text": [
            "Control group: 5000 users\n",
            "Treatment group: 5000 users\n"
          ]
        }
      ]
    },
    {
      "cell_type": "markdown",
      "source": [
        "## Descriptive Statistics"
      ],
      "metadata": {
        "id": "cXePJe5HFzHJ"
      }
    },
    {
      "cell_type": "code",
      "source": [
        "# Calculating Conversion rates\n",
        "control_total_visitors = Control_group['PageViews'].sum()\n",
        "control_conversions = Control_group['Converted'].sum()\n",
        "control_conversion_rate = (control_conversions / control_total_visitors) * 100\n",
        "\n",
        "# For Treatment group\n",
        "treatment_total_visitors = Treatment_group['PageViews'].sum()\n",
        "treatment_conversions = Treatment_group['Converted'].sum()\n",
        "treatment_conversion_rate = (treatment_conversions / treatment_total_visitors) * 100\n",
        "\n",
        "print(f\"Control group conversion rate: {control_conversion_rate:.2f}%\")\n",
        "print(f\"Treatment group conversion rate: {treatment_conversion_rate:.2f}%\")"
      ],
      "metadata": {
        "colab": {
          "base_uri": "https://localhost:8080/"
        },
        "id": "6_sWLDGrVOul",
        "outputId": "b8286443-0172-4185-ee04-ea2b0275f0df"
      },
      "execution_count": null,
      "outputs": [
        {
          "output_type": "stream",
          "name": "stdout",
          "text": [
            "Control group conversion rate: 1.01%\n",
            "Treatment group conversion rate: 1.12%\n"
          ]
        }
      ]
    },
    {
      "cell_type": "code",
      "source": [
        "# Difference\n",
        "\n",
        "difference = treatment_conversion_rate - control_conversion_rate\n",
        "print(f\"Difference between treatment and control group: {difference:.2f}%\")"
      ],
      "metadata": {
        "colab": {
          "base_uri": "https://localhost:8080/"
        },
        "id": "qhQzaOAPVQxd",
        "outputId": "90bf68de-b69a-4e24-e49b-71451528cdb9"
      },
      "execution_count": null,
      "outputs": [
        {
          "output_type": "stream",
          "name": "stdout",
          "text": [
            "Difference between treatment and control group: 0.10%\n"
          ]
        }
      ]
    },
    {
      "cell_type": "code",
      "source": [
        "# Calculating derived metrics\n",
        "\n",
        "data['ConversionRate'] = data['Converted'] / data['PageViews']\n",
        "data['ClickThroughRate'] = data['Clicks'] / data['PageViews']"
      ],
      "metadata": {
        "id": "KaMW6QvoZSwA"
      },
      "execution_count": null,
      "outputs": []
    },
    {
      "cell_type": "code",
      "source": [
        "# Group-wise statistics\n",
        "group_stats = data.groupby('Group').agg({\n",
        "            'PageViews': ['count', 'mean', 'std', 'median'],\n",
        "            'Clicks': ['sum', 'mean', 'std', 'median'],\n",
        "            'Converted': ['sum', 'mean', 'std'],\n",
        "            'ConversionRate': ['mean', 'std', 'median'],\n",
        "            'ClickThroughRate': ['mean', 'std', 'median']\n",
        "  }).round(4)"
      ],
      "metadata": {
        "id": "fxKCTTcSaAH4"
      },
      "execution_count": null,
      "outputs": []
    },
    {
      "cell_type": "code",
      "source": [
        "print(group_stats)"
      ],
      "metadata": {
        "colab": {
          "base_uri": "https://localhost:8080/"
        },
        "id": "sWKAPG3faEGG",
        "outputId": "0534c6c4-ba5a-4534-af21-97f1fb411f5a"
      },
      "execution_count": null,
      "outputs": [
        {
          "output_type": "stream",
          "name": "stdout",
          "text": [
            "          PageViews                         Clicks                         \\\n",
            "              count     mean     std median    sum    mean     std median   \n",
            "Group                                                                       \n",
            "Control        5000   9.4526  4.4499    9.0  34674  6.9348  4.3135    7.0   \n",
            "Treatment      5000  10.5562  5.0555   11.0  40331  8.0662  4.9282    8.0   \n",
            "\n",
            "          Converted                 ConversionRate                 \\\n",
            "                sum    mean     std           mean     std median   \n",
            "Group                                                               \n",
            "Control         479  0.0958  0.2943         0.0157  0.0697    0.0   \n",
            "Treatment       590  0.1180  0.3226         0.0167  0.0646    0.0   \n",
            "\n",
            "          ClickThroughRate                  \n",
            "                      mean     std  median  \n",
            "Group                                       \n",
            "Control             0.6527  0.2498  0.7333  \n",
            "Treatment           0.6849  0.2395  0.7647  \n"
          ]
        }
      ]
    },
    {
      "cell_type": "code",
      "source": [
        "# Overall conversion metrics\n",
        "conversion_summary = data.groupby('Group').agg({\n",
        "            'PageViews': 'sum',\n",
        "            'Clicks': 'sum',\n",
        "            'Converted': 'sum'\n",
        "        })"
      ],
      "metadata": {
        "id": "rGwC8biKaKYK"
      },
      "execution_count": null,
      "outputs": []
    },
    {
      "cell_type": "code",
      "source": [
        "conversion_summary['Overall_ConversionRate'] = (conversion_summary['Converted'] /\n",
        "                                                       conversion_summary['PageViews'] * 100).round(2)\n",
        "conversion_summary['Overall_CTR'] = (conversion_summary['Clicks'] /\n",
        "                                           conversion_summary['PageViews'] * 100).round(2)\n",
        "\n",
        "print(\"\\nOverall Conversion Metrics:\")\n",
        "print(conversion_summary)"
      ],
      "metadata": {
        "colab": {
          "base_uri": "https://localhost:8080/"
        },
        "id": "cvdcn6VUaWav",
        "outputId": "c8d690bf-e47f-4296-c80f-112bad5399c2"
      },
      "execution_count": null,
      "outputs": [
        {
          "output_type": "stream",
          "name": "stdout",
          "text": [
            "\n",
            "Overall Conversion Metrics:\n",
            "           PageViews  Clicks  Converted  Overall_ConversionRate  Overall_CTR\n",
            "Group                                                                       \n",
            "Control        47263   34674        479                    1.01        73.36\n",
            "Treatment      52781   40331        590                    1.12        76.41\n"
          ]
        }
      ]
    },
    {
      "cell_type": "markdown",
      "source": [
        "## Statistical Tests"
      ],
      "metadata": {
        "id": "sqKREOIfF_pl"
      }
    },
    {
      "cell_type": "code",
      "source": [
        "#  Contigency Test\n",
        "\n",
        "control_converted = Control_group['Converted'].sum()\n",
        "control_not_converted = Control_group['PageViews'].sum() - control_converted\n",
        "treatment_converted = Treatment_group['Converted'].sum()\n",
        "treatment_not_converted = Treatment_group['PageViews'].sum() - treatment_converted"
      ],
      "metadata": {
        "id": "RGDnkoHBabcb"
      },
      "execution_count": null,
      "outputs": []
    },
    {
      "cell_type": "code",
      "source": [
        "# Making table\n",
        "np.array([\n",
        "    [control_converted, control_not_converted],\n",
        "    [treatment_converted, treatment_not_converted]\n",
        "])"
      ],
      "metadata": {
        "colab": {
          "base_uri": "https://localhost:8080/"
        },
        "id": "HbO0Td7Tan55",
        "outputId": "18fdce65-0f92-4484-90ba-367100eb274a"
      },
      "execution_count": null,
      "outputs": [
        {
          "output_type": "execute_result",
          "data": {
            "text/plain": [
              "array([[  479, 46784],\n",
              "       [  590, 52191]])"
            ]
          },
          "metadata": {},
          "execution_count": 50
        }
      ]
    },
    {
      "cell_type": "markdown",
      "source": [
        "### Conversion rate test (chi-square test)"
      ],
      "metadata": {
        "id": "QPCxaeKYGXCA"
      }
    },
    {
      "cell_type": "code",
      "source": [
        "chi2, p_value_conv, dof, expected = chi2_contingency(np.array([\n",
        "    [control_converted, control_not_converted],\n",
        "    [treatment_converted, treatment_not_converted]\n",
        "]))"
      ],
      "metadata": {
        "id": "U7fKu0Bkauf_"
      },
      "execution_count": null,
      "outputs": []
    },
    {
      "cell_type": "code",
      "source": [
        "print(f\"  • Chi-square statistic: {chi2:.4f}\")\n",
        "print(f\"  • P-value: {p_value_conv:.4f}\")"
      ],
      "metadata": {
        "colab": {
          "base_uri": "https://localhost:8080/"
        },
        "id": "p1pdcO42cn8s",
        "outputId": "1be89ef0-2866-4ba2-f8d5-1d1bf7d1e9fd"
      },
      "execution_count": null,
      "outputs": [
        {
          "output_type": "stream",
          "name": "stdout",
          "text": [
            "  • Chi-square statistic: 2.4706\n",
            "  • P-value: 0.1160\n"
          ]
        }
      ]
    },
    {
      "cell_type": "markdown",
      "source": [
        "Statistical Significance: NO"
      ],
      "metadata": {
        "id": "elHKPLKyh7h6"
      }
    },
    {
      "cell_type": "markdown",
      "source": [
        "### Click through rate (CTR) test (chi-square test)"
      ],
      "metadata": {
        "id": "nkC22kEHGfT5"
      }
    },
    {
      "cell_type": "code",
      "source": [
        "# Click-Through Rate Test\n",
        "\n",
        "control_ctr = Control_group['Clicks'].sum() / Control_group['PageViews'].sum()\n",
        "treatment_ctr = Treatment_group['Clicks'].sum() / Treatment_group['PageViews'].sum()\n",
        "\n",
        "# Chi-square for CTR\n",
        "control_clicks = Control_group['Clicks'].sum()\n",
        "control_no_clicks = Control_group['PageViews'].sum() - control_clicks\n",
        "treatment_clicks = Treatment_group['Clicks'].sum()\n",
        "treatment_no_clicks = Treatment_group['PageViews'].sum() - treatment_clicks\n",
        "\n",
        "ctr_contingency = np.array([\n",
        "            [control_clicks, control_no_clicks],\n",
        "            [treatment_clicks, treatment_no_clicks]\n",
        "        ])\n",
        "\n",
        "chi2_ctr, p_value_ctr, _, _ = chi2_contingency(ctr_contingency)"
      ],
      "metadata": {
        "id": "qMFHoTi8cvYz"
      },
      "execution_count": null,
      "outputs": []
    },
    {
      "cell_type": "code",
      "source": [
        "print(f\"Control CTR: {control_ctr:.4f} ({control_ctr*100:.2f}%)\")\n",
        "print(f\"Treatment CTR: {treatment_ctr:.4f} ({treatment_ctr*100:.2f}%)\")\n",
        "print(f\"Chi-square statistic: {chi2_ctr:.4f}\")\n",
        "print(f\"P-value: {p_value_ctr:.4f}\")"
      ],
      "metadata": {
        "colab": {
          "base_uri": "https://localhost:8080/"
        },
        "id": "Nt58F_-RdE9F",
        "outputId": "788cb9d3-ba43-4692-b29a-ea0a0cdb3ef6"
      },
      "execution_count": null,
      "outputs": [
        {
          "output_type": "stream",
          "name": "stdout",
          "text": [
            "Control CTR: 0.7336 (73.36%)\n",
            "Treatment CTR: 0.7641 (76.41%)\n",
            "Chi-square statistic: 123.2957\n",
            "P-value: 0.0000\n"
          ]
        }
      ]
    },
    {
      "cell_type": "markdown",
      "source": [
        "Statistical Significance: YES"
      ],
      "metadata": {
        "id": "vnoRIqR9h3V8"
      }
    },
    {
      "cell_type": "markdown",
      "source": [
        "### Test for Page Views (T test)"
      ],
      "metadata": {
        "id": "h-nptNk1GpRM"
      }
    },
    {
      "cell_type": "code",
      "source": [
        "# T-Test for Page views\n",
        "t_stat_pv, p_value_pv = ttest_ind(Control_group['PageViews'], Treatment_group['PageViews'])\n",
        "print(f\"Control PageViews - Mean: {Control_group['PageViews'].mean():.2f}, Std: {Control_group['PageViews'].std():.2f}\")\n",
        "print(f\"Treatment PageViews - Mean: {Treatment_group['PageViews'].mean():.2f}, Std: {Treatment_group['PageViews'].std():.2f}\")\n",
        "print(f\"T-statistic: {t_stat_pv:.4f}\")\n",
        "print(f\"P-value: {p_value_pv:.4f}\")"
      ],
      "metadata": {
        "colab": {
          "base_uri": "https://localhost:8080/"
        },
        "id": "V9hDL8OcdHxz",
        "outputId": "890e991a-28ea-4430-932e-290a15201074"
      },
      "execution_count": null,
      "outputs": [
        {
          "output_type": "stream",
          "name": "stdout",
          "text": [
            "Control PageViews - Mean: 9.45, Std: 4.45\n",
            "Treatment PageViews - Mean: 10.56, Std: 5.06\n",
            "T-statistic: -11.5868\n",
            "P-value: 0.0000\n"
          ]
        }
      ]
    },
    {
      "cell_type": "markdown",
      "source": [
        "Statistical Significance: YES"
      ],
      "metadata": {
        "id": "I28YAiWnhB_b"
      }
    },
    {
      "cell_type": "markdown",
      "source": [
        "## Visualization"
      ],
      "metadata": {
        "id": "2EYjEnqLiKJ_"
      }
    },
    {
      "cell_type": "code",
      "source": [
        "fig, axes = plt.subplots(1, 2, figsize=(12, 6))\n",
        "fig.suptitle('A/B Test Results', fontsize=16, fontweight='bold')\n",
        "\n",
        "# 1. Conversion Rate Comparison\n",
        "conv_data = data.groupby('Group').agg({\n",
        "        'PageViews': 'sum',\n",
        "        'Converted': 'sum'\n",
        "    })\n",
        "conv_data['ConversionRate'] = conv_data['Converted'] / conv_data['PageViews'] * 100\n",
        "\n",
        "axes[0].bar(conv_data.index, conv_data['ConversionRate'])\n",
        "axes[0].set_title('Conversion Rate (%)')\n",
        "axes[0].set_ylabel('Conversion Rate (%)')\n",
        "\n",
        "# Adding value labels on bars\n",
        "for i, v in enumerate(conv_data['ConversionRate']):\n",
        "  axes[0].text(i, v + 0.1, f'{v:.2f}%', ha='center', fontweight='bold')\n",
        "\n",
        "# 2. Click-Through Rate\n",
        "ctr_data = data.groupby('Group').agg({\n",
        "        'PageViews': 'sum',\n",
        "        'Clicks': 'sum'\n",
        "    })\n",
        "ctr_data['CTR'] = ctr_data['Clicks'] / ctr_data['PageViews'] * 100\n",
        "\n",
        "axes[1].bar(ctr_data.index, ctr_data['CTR'])\n",
        "axes[1].set_title('Click-Through Rate (%)')\n",
        "axes[1].set_ylabel('CTR (%)')\n",
        "\n",
        "for i, v in enumerate(ctr_data['CTR']):\n",
        "  axes[1].text(i, v + 0.5, f'{v:.2f}%', ha='center', fontweight='bold')"
      ],
      "metadata": {
        "colab": {
          "base_uri": "https://localhost:8080/",
          "height": 582
        },
        "id": "a5rxc6tcdTIX",
        "outputId": "1a651b14-ed5c-409d-8702-2cf2c2a18311"
      },
      "execution_count": null,
      "outputs": [
        {
          "output_type": "display_data",
          "data": {
            "text/plain": [
              "<Figure size 1200x600 with 2 Axes>"
            ],
            "image/png": "[encoded data removed]"
          },
          "metadata": {}
        }
      ]
    }
  ]
}